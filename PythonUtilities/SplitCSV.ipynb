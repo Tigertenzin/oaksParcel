{
 "cells": [
  {
   "cell_type": "code",
   "execution_count": 1,
   "metadata": {},
   "outputs": [],
   "source": [
    "import pandas\n",
    "import numpy as np"
   ]
  },
  {
   "cell_type": "markdown",
   "metadata": {},
   "source": [
    "# Splitting up pokemon_moves.csv"
   ]
  },
  {
   "cell_type": "markdown",
   "metadata": {},
   "source": [
    "## Import Data from the CSV"
   ]
  },
  {
   "cell_type": "code",
   "execution_count": 2,
   "metadata": {},
   "outputs": [],
   "source": [
    "filename = \"pokemon_moves.csv\"\n",
    "\n",
    "df = pandas.read_csv(filename)"
   ]
  },
  {
   "cell_type": "markdown",
   "metadata": {},
   "source": [
    "## Writing to separate csv files (sorted by pokemon_id)"
   ]
  },
  {
   "cell_type": "code",
   "execution_count": 3,
   "metadata": {},
   "outputs": [
    {
     "name": "stdout",
     "output_type": "stream",
     "text": [
      "        pokemon_id  version_group_id  move_id  pokemon_move_method_id  level  \\\n",
      "0                1                 1       14                       4      0   \n",
      "1                1                 1       15                       4      0   \n",
      "2                1                 1       22                       1     13   \n",
      "3                1                 1       33                       1      1   \n",
      "4                1                 1       34                       4      0   \n",
      "...            ...               ...      ...                     ...    ...   \n",
      "465812       10157                18      590                       4      0   \n",
      "465813       10157                18      684                       4      0   \n",
      "465814       10157                18      693                       4      0   \n",
      "465815       10157                18      711                       1     73   \n",
      "465816       10157                18      722                       1     50   \n",
      "\n",
      "        order  \n",
      "0         NaN  \n",
      "1         NaN  \n",
      "2         NaN  \n",
      "3         1.0  \n",
      "4         NaN  \n",
      "...       ...  \n",
      "465812    NaN  \n",
      "465813    NaN  \n",
      "465814    NaN  \n",
      "465815    NaN  \n",
      "465816    NaN  \n",
      "\n",
      "[465817 rows x 6 columns]\n"
     ]
    }
   ],
   "source": [
    "# df = df.rename(columns={\"\": \"id\"})\n",
    "print(df)\n",
    "\n",
    "# colName = df.columns[1]\n",
    "# print(colName)"
   ]
  },
  {
   "cell_type": "code",
   "execution_count": 16,
   "metadata": {},
   "outputs": [],
   "source": [
    "seeking_pkmnID = 200\n",
    "seeking_version = 1\n",
    "\n",
    "foundData = df.loc[df[\"pokemon_id\"] == seeking_pkmnID]\n",
    "foundData2 = foundData.loc[df[\"version_group_id\"] == seeking_version]"
   ]
  },
  {
   "cell_type": "code",
   "execution_count": 17,
   "metadata": {},
   "outputs": [
    {
     "name": "stdout",
     "output_type": "stream",
     "text": [
      "Empty DataFrame\n",
      "Columns: [pokemon_id, version_group_id, move_id, pokemon_move_method_id, level, order]\n",
      "Index: []\n"
     ]
    }
   ],
   "source": [
    "print(foundData2)\n",
    "\n",
    "# foundData.to_json('test.json')"
   ]
  },
  {
   "cell_type": "code",
   "execution_count": 22,
   "metadata": {},
   "outputs": [],
   "source": [
    "pkmnID_Range = np.arange(1,808)\n",
    "versionID_Range = np.arange(1,19)\n",
    "\n",
    "for i in pkmnID_Range: \n",
    "    for j in versionID_Range: \n",
    "        filename = \"pokemon_moves_IDVer/pokemon_moves_\"+str(i).zfill(3) + \"_\" +str(j).zfill(2)+\".csv\"\n",
    "        foundData = df.loc[df[\"pokemon_id\"] == i]\n",
    "        foundData2 = foundData.loc[df[\"version_group_id\"] == j]\n",
    "        if foundData2.empty == False: \n",
    "            foundData2.to_csv(filename)\n"
   ]
  },
  {
   "cell_type": "markdown",
   "metadata": {},
   "source": [
    "## Writing to separate csv files (sorted by move_id)"
   ]
  },
  {
   "cell_type": "code",
   "execution_count": 23,
   "metadata": {},
   "outputs": [
    {
     "name": "stdout",
     "output_type": "stream",
     "text": [
      "        pokemon_id  version_group_id  move_id  pokemon_move_method_id  level  \\\n",
      "25101           35                 1        1                       1      1   \n",
      "25142           35                 2        1                       1      1   \n",
      "25183           35                 3        1                       1      1   \n",
      "25230           35                 4        1                       1      1   \n",
      "25280           35                 5        1                       1      1   \n",
      "...            ...               ...      ...                     ...    ...   \n",
      "434219         807                18      721                       1     43   \n",
      "433781         800                18      722                       1     50   \n",
      "465692       10155                18      722                       1     50   \n",
      "465754       10156                18      722                       1     50   \n",
      "465816       10157                18      722                       1     50   \n",
      "\n",
      "        order  \n",
      "25101     1.0  \n",
      "25142     1.0  \n",
      "25183     1.0  \n",
      "25230     1.0  \n",
      "25280     1.0  \n",
      "...       ...  \n",
      "434219    NaN  \n",
      "433781    NaN  \n",
      "465692    NaN  \n",
      "465754    NaN  \n",
      "465816    NaN  \n",
      "\n",
      "[465817 rows x 6 columns]\n"
     ]
    }
   ],
   "source": [
    "sorted_df = df.sort_values(by=['move_id', \"pokemon_id\"])\n",
    "print(sorted_df)"
   ]
  },
  {
   "cell_type": "code",
   "execution_count": 26,
   "metadata": {},
   "outputs": [],
   "source": [
    "moveID = np.arange(1,723)\n",
    "versionID_Range = np.arange(1,19)\n",
    "\n",
    "for i in moveID: \n",
    "    for j in versionID_Range: \n",
    "        filename = \"pokemon_moves_byMoveID/pokemon_moves_byMove\"+str(i).zfill(3) + \"_\" +str(j).zfill(2) + \".csv\"\n",
    "        foundData = sorted_df.loc[sorted_df[\"move_id\"] == i]\n",
    "        foundData2 = foundData.loc[df[\"version_group_id\"] == j]\n",
    "        if foundData2.empty == False: \n",
    "            foundData2.to_csv(filename)\n",
    "\n"
   ]
  },
  {
   "cell_type": "code",
   "execution_count": null,
   "metadata": {},
   "outputs": [],
   "source": []
  }
 ],
 "metadata": {
  "kernelspec": {
   "display_name": "Python 3",
   "language": "python",
   "name": "python3"
  },
  "language_info": {
   "codemirror_mode": {
    "name": "ipython",
    "version": 3
   },
   "file_extension": ".py",
   "mimetype": "text/x-python",
   "name": "python",
   "nbconvert_exporter": "python",
   "pygments_lexer": "ipython3",
   "version": "3.7.3"
  },
  "latex_envs": {
   "LaTeX_envs_menu_present": true,
   "autoclose": false,
   "autocomplete": true,
   "bibliofile": "biblio.bib",
   "cite_by": "apalike",
   "current_citInitial": 1,
   "eqLabelWithNumbers": true,
   "eqNumInitial": 1,
   "hotkeys": {
    "equation": "Ctrl-E",
    "itemize": "Ctrl-I"
   },
   "labels_anchors": false,
   "latex_user_defs": false,
   "report_style_numbering": false,
   "user_envs_cfg": false
  },
  "toc": {
   "base_numbering": 1,
   "nav_menu": {},
   "number_sections": true,
   "sideBar": true,
   "skip_h1_title": false,
   "title_cell": "Table of Contents",
   "title_sidebar": "Contents",
   "toc_cell": false,
   "toc_position": {},
   "toc_section_display": true,
   "toc_window_display": false
  }
 },
 "nbformat": 4,
 "nbformat_minor": 4
}
